{
  "nbformat": 4,
  "nbformat_minor": 0,
  "metadata": {
    "accelerator": "GPU",
    "colab": {
      "name": "Sort texts by partisanship with Fast.ai (Gannett)",
      "provenance": [],
      "collapsed_sections": [],
      "toc_visible": true
    },
    "kernelspec": {
      "display_name": "Python 3",
      "language": "python",
      "name": "python3"
    },
    "language_info": {
      "codemirror_mode": {
        "name": "ipython",
        "version": 3
      },
      "file_extension": ".py",
      "mimetype": "text/x-python",
      "name": "python",
      "nbconvert_exporter": "python",
      "pygments_lexer": "ipython3",
      "version": "3.7.7"
    }
  },
  "cells": [
    {
      "cell_type": "markdown",
      "metadata": {
        "id": "Q2FtGCN6bVsg"
      },
      "source": [
        "# Sorting ads by partisanship.\n"
      ]
    },
    {
      "cell_type": "markdown",
      "metadata": {
        "id": "_CaoHqFbIYdd"
      },
      "source": [
        "## Overview\n",
        "\n",
        "Our challenge is to take a big corpus of political ads and sort them by partisanship. Democrats, Republicans, non-partisan and commercial (e.g. merch).\n",
        "\n",
        "I took these ads from Facebook's ad library, and you could apply it maybe to tweets or Google ads too. \n",
        "\n",
        "But note that our workflow isn't politics-specific. You could do the exact same thing to categorize court documents... or consumer complaints... or online comments.\n",
        "\n",
        "### First, the language model\n",
        "\n",
        "We'll get into the details below, but here's our two-step process for this project:\n",
        "\n",
        "First, we need a model trained to recognize the patterns of English. For that, we'd need some huge dataset of English-language text. Fortunately, someone has already done that for us! We'll be using a model trained on thousands of long Wikipedia articles. It's called [wikitext-103](https://einstein.ai/research/blog/the-wikitext-long-term-dependency-language-modeling-dataset).\n",
        "\n",
        "We'll then use _transfer learning_ (like we did for the bike video frames) to further train wikitext-103 on our particular corpus: several thousand political ads. So we benefit from it's training on both English-language articles _and_  political ads.\n",
        "\n",
        "That will give us a **language model** that's good at detecting patterns in political ads.\n",
        "\n",
        "\n",
        "### Second, the classification model\n",
        "\n",
        "Next we need a model that will sort -- aka _classify_ -- political ads into \"Republican\", \"Democrat\", and \"other\". This will combine the patern-recognition embedded in the language model and examples of both kinds of political ads to make a predition on which class _new_ political ads belong to. This is our **classification model**.\n",
        "\n",
        "\n",
        "## The Plan\n",
        "\n",
        "Here's what we're going to do:\n",
        "\n",
        "- Grab files with a bunch of political ads\n",
        "- Make a **language model** from a model pretrained on Wikipedia _plus_ all the political ads as we have\n",
        "- Make a **classification model** to predict whether an ad is political or not using a _shortcut_. Instead of hand-labeling ads, we'll hand-label advertisers.\n",
        "- Use that classification model to predict the politicalness of unseen ads."
      ]
    },
    {
      "cell_type": "markdown",
      "metadata": {
        "id": "VX0MZ45kIYde"
      },
      "source": [
        "## Credits\n",
        "\n",
        "This notebook was based on one originally created by Jeremy Howard and the other folks at [fast.ai](https://fast.ai) as part of [this fantastic class](https://course.fast.ai/). Specifically, it comes from Lesson 4. You can [see the lession video](https://course.fast.ai/videos/?lesson=4) and [the original class notebook](https://github.com/fastai/course-v3/blob/master/nbs/dl1/lesson3-imdb.ipynb). \n",
        "\n",
        "For more information about this project, and details about how to use this work in the wild, check out our [Quartz AI Studio blog post about the checkable-tweets project](https://qz.ai/?p=89).\n",
        "\n",
        "-- John Keefe, [Quartz](https://qz.com), October 2019 (updated by Jeremy Merrill, May 2021)"
      ]
    },
    {
      "cell_type": "markdown",
      "metadata": {
        "id": "SDfT21EFIYdf"
      },
      "source": [
        "## Setup"
      ]
    },
    {
      "cell_type": "markdown",
      "metadata": {
        "id": "BXTvy_1JIYdf"
      },
      "source": [
        "### For those using Google Colaboratory ...\n",
        "\n",
        "Be aware that Google Colab instances are ephemeral -- they vanish *Poof* when you close them, or after a period of sitting idle (currently 90 minutes), or if you use one for more than 12 hours.\n",
        "\n",
        "If you're using Google Colaboratory, be sure to set your runtime to \"GPU\" which speeds up your notebook for machine learning:\n",
        "\n",
        "![change runtime](https://qz-aistudio-public.s3.amazonaws.com/workshops/notebook_images/change_runtime_2.jpg)\n",
        "![pick gpu](https://qz-aistudio-public.s3.amazonaws.com/workshops/notebook_images/pick_gpu_2.jpg)\n",
        "\n",
        "Then run this cell:"
      ]
    },
    {
      "cell_type": "code",
      "metadata": {
        "collapsed": true,
        "id": "A1Pn_NxvIYdf"
      },
      "source": [
        "## This installs the most recent version of fast.ai\n",
        "!pip install --quiet fastai==2.3.1\n",
        "\n",
        "# if we're not on Google Colab, we need to do a few things to make stuff display right\n",
        "try:\n",
        "  import google.colab\n",
        "except:\n",
        "  %reload_ext autoreload\n",
        "  %autoreload 2\n",
        "  %matplotlib inline"
      ],
      "execution_count": null,
      "outputs": []
    },
    {
      "cell_type": "markdown",
      "metadata": {
        "id": "Q46N_RhoIYdg"
      },
      "source": [
        "Everyone needs to run the next cell, which initializes the Python libraries we'll use in this notebook."
      ]
    },
    {
      "cell_type": "code",
      "metadata": {
        "collapsed": true,
        "id": "wulw8sSqIYdh"
      },
      "source": [
        "import warnings\n",
        "warnings.filterwarnings('ignore')\n",
        "from fastai.text.all import *\n",
        "import fastai\n",
        "import pandas as pd"
      ],
      "execution_count": null,
      "outputs": []
    },
    {
      "cell_type": "code",
      "metadata": {
        "colab": {
          "base_uri": "https://localhost:8080/"
        },
        "id": "-vUkGMHXL0fs",
        "outputId": "cd300bc5-8730-47f0-9aba-a14a8fc2b53a"
      },
      "source": [
        "from fastai import __version__ as fastai_version\n",
        "import torch\n",
        "print(f'fastai: {fastai_version}')\n",
        "print(f\"if the fastai version ({fastai_version}) starts with a 1, go to Runtime -> Restart runtime and run the cells above again\")\n",
        "print('do we have a GPU?: {}'.format(\"yes! :)\" if torch.cuda.is_available() else \"NO, UH OH, re-read the instructions above\"))"
      ],
      "execution_count": null,
      "outputs": [
        {
          "output_type": "stream",
          "text": [
            "fastai: 2.3.1\n",
            "if the fastai version (2.3.1) starts with a 1, go to Runtime -> Restart runtime and run the cells above again\n",
            "do we have a GPU?: yes! :)\n"
          ],
          "name": "stdout"
        }
      ]
    },
    {
      "cell_type": "markdown",
      "metadata": {
        "id": "MWWXa-NGIYdh"
      },
      "source": [
        "## The Data"
      ]
    },
    {
      "cell_type": "markdown",
      "metadata": {
        "id": "iZi_kxXAIYdi"
      },
      "source": [
        "Here's the \"training data\" we'll be using\n",
        "\n",
        "- A CSV (comma-separated values file) containing a bunch of political ads, with labels \"liberal\", \"conservative\" or \"other\" for each one."
      ]
    },
    {
      "cell_type": "code",
      "metadata": {
        "colab": {
          "base_uri": "https://localhost:8080/"
        },
        "collapsed": true,
        "id": "5SjDt8AYIYdi",
        "scrolled": true,
        "outputId": "f39c50d8-b8bb-4f39-9f50-7c3f2be53897"
      },
      "source": [
        "# Run this cell to download the data we'll use for this exercise\n",
        "!wget -P data/ -N https://filedn.com/lVaAxkskVxILBoUDG3XUrm7/partisanship_model_training_data_3000.csv --quiet\n",
        "print('Done!')"
      ],
      "execution_count": null,
      "outputs": [
        {
          "output_type": "stream",
          "text": [
            "Done!\n"
          ],
          "name": "stdout"
        }
      ]
    },
    {
      "cell_type": "markdown",
      "metadata": {
        "id": "A1J7IbEYIYdi"
      },
      "source": [
        "We now have a CSV of labeled political ads (just their text). Let's take a look."
      ]
    },
    {
      "cell_type": "code",
      "metadata": {
        "colab": {
          "base_uri": "https://localhost:8080/"
        },
        "collapsed": true,
        "id": "F7bBb-iDIYdi",
        "outputId": "5d94d826-32e8-4ab7-968a-c829e249a61f"
      },
      "source": [
        "%ls data/"
      ],
      "execution_count": null,
      "outputs": [
        {
          "output_type": "stream",
          "text": [
            "partisanship_model_training_data_3000.csv\n"
          ],
          "name": "stdout"
        }
      ]
    },
    {
      "cell_type": "markdown",
      "metadata": {
        "id": "9TPvnzypbVsq"
      },
      "source": [
        "### Take a peek at the tweet data"
      ]
    },
    {
      "cell_type": "markdown",
      "metadata": {
        "id": "I21aOI9xbVsr"
      },
      "source": [
        "Pulling data from Facebook's ad library (technically from a copy maintained at NYU, because Facebook's API is hard to use), I pulled 10,000 ad texts from 5-10 big advertisers with obvious partisanship, plus a few non-partisan ones (e.g. Facebook itself, some charities). Each ad is classified as having the partisanship of its advertiser."
      ]
    },
    {
      "cell_type": "code",
      "metadata": {
        "colab": {
          "base_uri": "https://localhost:8080/",
          "height": 340
        },
        "collapsed": true,
        "id": "kWwuVUg9QHo8",
        "outputId": "3313b0cd-06c7-4e17-b466-3a402ff3cdbd"
      },
      "source": [
        "# Here I read the csv into a data frame I called `political_ads`\n",
        "# and take a look at the first few rows\n",
        "data_path = './data/'\n",
        "political_ads = pd.read_csv(data_path + 'partisanship_model_training_data_3000.csv')\n",
        "political_ads.head()"
      ],
      "execution_count": null,
      "outputs": [
        {
          "output_type": "execute_result",
          "data": {
            "text/html": [
              "<div>\n",
              "<style scoped>\n",
              "    .dataframe tbody tr th:only-of-type {\n",
              "        vertical-align: middle;\n",
              "    }\n",
              "\n",
              "    .dataframe tbody tr th {\n",
              "        vertical-align: top;\n",
              "    }\n",
              "\n",
              "    .dataframe thead th {\n",
              "        text-align: right;\n",
              "    }\n",
              "</style>\n",
              "<table border=\"1\" class=\"dataframe\">\n",
              "  <thead>\n",
              "    <tr style=\"text-align: right;\">\n",
              "      <th></th>\n",
              "      <th>archive_id</th>\n",
              "      <th>ad_creative_body</th>\n",
              "      <th>page_name</th>\n",
              "      <th>partisanship</th>\n",
              "    </tr>\n",
              "  </thead>\n",
              "  <tbody>\n",
              "    <tr>\n",
              "      <th>0</th>\n",
              "      <td>193214261890684</td>\n",
              "      <td>President Trump has made enough broken promises. Now, it's time for a change.</td>\n",
              "      <td>Mike Bloomberg</td>\n",
              "      <td>liberal</td>\n",
              "    </tr>\n",
              "    <tr>\n",
              "      <th>1</th>\n",
              "      <td>190619788952147</td>\n",
              "      <td>President Trump has made enough broken promises. Now, it's time for a change.</td>\n",
              "      <td>Mike Bloomberg</td>\n",
              "      <td>liberal</td>\n",
              "    </tr>\n",
              "    <tr>\n",
              "      <th>2</th>\n",
              "      <td>285355426019185</td>\n",
              "      <td>America is in a time of crisis. But we can’t just build back to the way things were before these crises — we have to build back better. \\n\\nIf you’re ready to elect a president who will fight for working people, protect our environment for the generations to come, and work to heal our deepest divisions, add your name right now.</td>\n",
              "      <td>Joe Biden</td>\n",
              "      <td>liberal</td>\n",
              "    </tr>\n",
              "    <tr>\n",
              "      <th>3</th>\n",
              "      <td>1043009652735139</td>\n",
              "      <td>The only constant in Trump's White House is chaos.</td>\n",
              "      <td>Mike Bloomberg</td>\n",
              "      <td>liberal</td>\n",
              "    </tr>\n",
              "    <tr>\n",
              "      <th>4</th>\n",
              "      <td>1304514473246395</td>\n",
              "      <td>Every single day since Donald Trump was elected, we’ve been looking forward to this – finally, Election Day is here.\\n\\nTake just a minute right now to confirm your polling place, and then get out and vote Trump out on Tuesday, Nov. 3!</td>\n",
              "      <td>Joe Biden</td>\n",
              "      <td>liberal</td>\n",
              "    </tr>\n",
              "  </tbody>\n",
              "</table>\n",
              "</div>"
            ],
            "text/plain": [
              "         archive_id  ... partisanship\n",
              "0   193214261890684  ...      liberal\n",
              "1   190619788952147  ...      liberal\n",
              "2   285355426019185  ...      liberal\n",
              "3  1043009652735139  ...      liberal\n",
              "4  1304514473246395  ...      liberal\n",
              "\n",
              "[5 rows x 4 columns]"
            ]
          },
          "metadata": {
            "tags": []
          },
          "execution_count": 55
        }
      ]
    },
    {
      "cell_type": "markdown",
      "metadata": {
        "id": "k68oC7bJIYdj"
      },
      "source": [
        "To train the language model, we want a bunch of examples of political ads. It doesn't matter that we didn't classify them as fact-checkable or not. The language model just needs _examples_ of the kinds of ads it might see. "
      ]
    },
    {
      "cell_type": "markdown",
      "metadata": {
        "id": "eym6ulq0bVuz"
      },
      "source": [
        "## Building the language model"
      ]
    },
    {
      "cell_type": "markdown",
      "metadata": {
        "id": "62pxEwWPbVvI"
      },
      "source": [
        "First we need a model that 'understands' the rules of English, and ideally also recognizes patterns in our particular corpus, the political ads. This is the language model. \n",
        "\n",
        "We'll start with a language model pretrained on a thousands of Wikipedia articles called [wikitext-103](https://einstein.ai/research/blog/the-wikitext-long-term-dependency-language-modeling-dataset). That language model has been trained to guess the next word in a sentence based on all the previous words. It has a recurrent structure with a hidden state that is updated each time it sees a new word. This hidden state thus contains information about the sentence up to that point.\n",
        "\n",
        "For our project, we want to infuse the Wikitext model with our particular dataset – the political ads. Because the English of political ads isn't the same as the English of Wikipedia, we'll adjust the internal parameters of the model by a little bit. That includes adding words that might be extremely common in the political ads but would be barely present in Wikipedia–and therefore might not be part of the vocabulary the model was trained on. For instance, maybe it would learn that \"defund\" is a word that occurs very often in conjunction with \"police\" -- a fact that's true of 2020 election-related text, but less true of older Wikipedia text."
      ]
    },
    {
      "cell_type": "markdown",
      "metadata": {
        "id": "FT0C6-vpbVvK"
      },
      "source": [
        "### Using all of our political for the language model\n",
        "\n",
        "We want as many political ads for the language model as possible to learn the patterns of political ads online.\n",
        "\n",
        "We'll start with the text of the 30,000 \"hand-coded\" political ads.\n",
        "\n",
        "But notice that I told the \"TextDataLoaders\" below where to find the \"text\" column in our CSV... \n",
        "\n",
        "But I didn't tell it where to find the partisanship label? Why is that?\n",
        "\n",
        "It's because we're not teaching a classifier yet. We're just training the language model, which doesn't care about the \"right answer\". That means if a shortcut like the one I took isn't available, you only have time to hand-label 30 or 50 or 100 training data points, **that's okay**. If you have a ton of data, it can help you even if you haven't looked at it yet!~"
      ]
    },
    {
      "cell_type": "markdown",
      "metadata": {
        "id": "3fU_R9lxbVv7"
      },
      "source": [
        "Fast.ai uses a concept called a \"[data loader](https://docs.fast.ai/basic_data.html)\" to handle machine-learning data, which takes care of a lot of the more fickle machine-learning data preparation. In other machine-learning frameworks, data loading can take hours to get right!"
      ]
    },
    {
      "cell_type": "code",
      "metadata": {
        "colab": {
          "base_uri": "https://localhost:8080/",
          "height": 17
        },
        "id": "C2rJuWVCbVv5",
        "outputId": "970dce70-78a8-453d-95bb-9bb2268d077f"
      },
      "source": [
        "path = \"./\"\n",
        "# Loading in data with the TextLMDataBunch factory class, using all the defaults\n",
        "data_for_language_model = TextDataLoaders.from_csv(path=path, csv_fname='data/partisanship_model_training_data_3000.csv', text_col='ad_creative_body', is_lm=True)\n"
      ],
      "execution_count": null,
      "outputs": [
        {
          "output_type": "display_data",
          "data": {
            "text/html": [
              ""
            ],
            "text/plain": [
              "<IPython.core.display.HTML object>"
            ]
          },
          "metadata": {
            "tags": []
          }
        }
      ]
    },
    {
      "cell_type": "markdown",
      "metadata": {
        "id": "rY0LkJCQbVwF"
      },
      "source": [
        "We can then put all of our political_ads (now labeled `data_for_language_model`) into a learner object along with the pretrained Wikitext model -- here called `AWD_LTSM`, which is downloaded the first time you'll execute the following line."
      ]
    },
    {
      "cell_type": "code",
      "metadata": {
        "collapsed": true,
        "id": "EiiXrA6zbVwH"
      },
      "source": [
        "learn = language_model_learner(data_for_language_model, AWD_LSTM, metrics=[accuracy, Perplexity()], path=path, wd=0.1).to_fp16()\n"
      ],
      "execution_count": null,
      "outputs": []
    },
    {
      "cell_type": "markdown",
      "metadata": {
        "id": "RfAXUyLnOB_J"
      },
      "source": [
        "One of the most important settings when we actually _train_ our model is the **learning rate**. I'm not going to dive into it here (though I encourage you to explore it), but will use a fast.ai tool to find the best learning rate to start with:"
      ]
    },
    {
      "cell_type": "code",
      "metadata": {
        "colab": {
          "base_uri": "https://localhost:8080/",
          "height": 300
        },
        "id": "W7b-Z94dbVwL",
        "outputId": "fc7dd560-3915-4dbb-d994-d43647c8c314"
      },
      "source": [
        "learn.lr_find()"
      ],
      "execution_count": null,
      "outputs": [
        {
          "output_type": "display_data",
          "data": {
            "text/html": [
              ""
            ],
            "text/plain": [
              "<IPython.core.display.HTML object>"
            ]
          },
          "metadata": {
            "tags": []
          }
        },
        {
          "output_type": "execute_result",
          "data": {
            "text/plain": [
              "SuggestedLRs(lr_min=0.07585775852203369, lr_steep=0.17378008365631104)"
            ]
          },
          "metadata": {
            "tags": []
          },
          "execution_count": 34
        },
        {
          "output_type": "display_data",
          "data": {
            "image/png": "[encoded data removed]",
            "text/plain": [
              "<Figure size 432x288 with 1 Axes>"
            ]
          },
          "metadata": {
            "tags": [],
            "needs_background": "light"
          }
        }
      ]
    },
    {
      "cell_type": "markdown",
      "metadata": {
        "id": "td3D3mK8TtHa"
      },
      "source": [
        "This gives us a graph of the optimal learning rate ... which is the point where the graph really dives downward (`1e-02` or so). Again, there's much more on picking and learning rates in the fast.ai course."
      ]
    },
    {
      "cell_type": "markdown",
      "metadata": {
        "id": "BQA3dZWPachE"
      },
      "source": [
        "Now we can train the Language Model. (Essentailly, we're training it to be good at guessing the *next word* in a sentence, given all of the previous words.)\n",
        "\n",
        "The variabales we're passing are `1` to just do one cycle of learning, the learning rate of `1e-2`, and some momentum settings we won't get into here -- but these are pretty safe. "
      ]
    },
    {
      "cell_type": "code",
      "metadata": {
        "colab": {
          "base_uri": "https://localhost:8080/",
          "height": 80
        },
        "collapsed": true,
        "id": "pveLnA6kbVwQ",
        "outputId": "2f820da0-f154-4741-d4b9-a7825403a97c"
      },
      "source": [
        "learn.fit_one_cycle(1, 1e-2)"
      ],
      "execution_count": null,
      "outputs": [
        {
          "output_type": "display_data",
          "data": {
            "text/html": [
              "<table border=\"1\" class=\"dataframe\">\n",
              "  <thead>\n",
              "    <tr style=\"text-align: left;\">\n",
              "      <th>epoch</th>\n",
              "      <th>train_loss</th>\n",
              "      <th>valid_loss</th>\n",
              "      <th>accuracy</th>\n",
              "      <th>perplexity</th>\n",
              "      <th>time</th>\n",
              "    </tr>\n",
              "  </thead>\n",
              "  <tbody>\n",
              "    <tr>\n",
              "      <td>0</td>\n",
              "      <td>4.384001</td>\n",
              "      <td>3.590874</td>\n",
              "      <td>0.338966</td>\n",
              "      <td>36.265774</td>\n",
              "      <td>00:05</td>\n",
              "    </tr>\n",
              "  </tbody>\n",
              "</table>"
            ],
            "text/plain": [
              "<IPython.core.display.HTML object>"
            ]
          },
          "metadata": {
            "tags": []
          }
        }
      ]
    },
    {
      "cell_type": "code",
      "metadata": {
        "colab": {
          "base_uri": "https://localhost:8080/",
          "height": 80
        },
        "collapsed": true,
        "id": "o-dYIVFcbVwS",
        "outputId": "f5eab2d1-dd9a-47b2-f788-170c5b705feb"
      },
      "source": [
        "learn.fit_one_cycle(1, 1e-2)\n"
      ],
      "execution_count": null,
      "outputs": [
        {
          "output_type": "display_data",
          "data": {
            "text/html": [
              "<table border=\"1\" class=\"dataframe\">\n",
              "  <thead>\n",
              "    <tr style=\"text-align: left;\">\n",
              "      <th>epoch</th>\n",
              "      <th>train_loss</th>\n",
              "      <th>valid_loss</th>\n",
              "      <th>accuracy</th>\n",
              "      <th>perplexity</th>\n",
              "      <th>time</th>\n",
              "    </tr>\n",
              "  </thead>\n",
              "  <tbody>\n",
              "    <tr>\n",
              "      <td>0</td>\n",
              "      <td>3.581129</td>\n",
              "      <td>3.045116</td>\n",
              "      <td>0.395706</td>\n",
              "      <td>21.012466</td>\n",
              "      <td>00:05</td>\n",
              "    </tr>\n",
              "  </tbody>\n",
              "</table>"
            ],
            "text/plain": [
              "<IPython.core.display.HTML object>"
            ]
          },
          "metadata": {
            "tags": []
          }
        }
      ]
    },
    {
      "cell_type": "markdown",
      "metadata": {
        "id": "M8kZOKSybVwX"
      },
      "source": [
        "To complete the fine-tuning, we \"unfreeze\" the original wikitext-103 language model and let our new training efforts work their way into the original neural network.\n",
        "\n",
        "Notice that we've booped the learning rate down by an order of magnitude. This a good idea... the Fast.ai course will tell you why."
      ]
    },
    {
      "cell_type": "code",
      "metadata": {
        "colab": {
          "base_uri": "https://localhost:8080/",
          "height": 111
        },
        "collapsed": true,
        "id": "kTfuNCuhbVwX",
        "outputId": "bbff3264-202b-4e36-95bc-96460a2a6b2e"
      },
      "source": [
        "# This takes a couple of minutes!\n",
        "learn.unfreeze()\n",
        "learn.fit_one_cycle(2, 1e-3)"
      ],
      "execution_count": null,
      "outputs": [
        {
          "output_type": "display_data",
          "data": {
            "text/html": [
              "<table border=\"1\" class=\"dataframe\">\n",
              "  <thead>\n",
              "    <tr style=\"text-align: left;\">\n",
              "      <th>epoch</th>\n",
              "      <th>train_loss</th>\n",
              "      <th>valid_loss</th>\n",
              "      <th>accuracy</th>\n",
              "      <th>perplexity</th>\n",
              "      <th>time</th>\n",
              "    </tr>\n",
              "  </thead>\n",
              "  <tbody>\n",
              "    <tr>\n",
              "      <td>0</td>\n",
              "      <td>3.091274</td>\n",
              "      <td>2.495149</td>\n",
              "      <td>0.479651</td>\n",
              "      <td>12.123542</td>\n",
              "      <td>00:05</td>\n",
              "    </tr>\n",
              "    <tr>\n",
              "      <td>1</td>\n",
              "      <td>2.784382</td>\n",
              "      <td>2.341314</td>\n",
              "      <td>0.512119</td>\n",
              "      <td>10.394885</td>\n",
              "      <td>00:05</td>\n",
              "    </tr>\n",
              "  </tbody>\n",
              "</table>"
            ],
            "text/plain": [
              "<IPython.core.display.HTML object>"
            ]
          },
          "metadata": {
            "tags": []
          }
        }
      ]
    },
    {
      "cell_type": "markdown",
      "metadata": {
        "id": "fv0mZuVhbVwd"
      },
      "source": [
        "While our accuracy may _seem_ low ... in this case it means the language model correctly guessed the next word in a sentence more than 1/3 of the time. That's pretty good! And we can see that even when it's wrong, it makes some pretty \"logical\" guesses. \n",
        "\n",
        "Let's give it a starting phrase and see how it does:\n"
      ]
    },
    {
      "cell_type": "code",
      "metadata": {
        "colab": {
          "base_uri": "https://localhost:8080/",
          "height": 190
        },
        "id": "_Wws03kmbVwd",
        "outputId": "2a75d0bf-3364-4704-eaac-7708578641f6"
      },
      "source": [
        "TEXT = \"We must stop\"\n",
        "N_WORDS = 40\n",
        "N_SENTENCES = 3\n",
        "\n",
        "print(\"\\n\\n\".join(learn.predict(TEXT, N_WORDS, temperature=0.75) for _ in range(N_SENTENCES)))"
      ],
      "execution_count": null,
      "outputs": [
        {
          "output_type": "display_data",
          "data": {
            "text/html": [
              ""
            ],
            "text/plain": [
              "<IPython.core.display.HTML object>"
            ]
          },
          "metadata": {
            "tags": []
          }
        },
        {
          "output_type": "display_data",
          "data": {
            "text/html": [
              ""
            ],
            "text/plain": [
              "<IPython.core.display.HTML object>"
            ]
          },
          "metadata": {
            "tags": []
          }
        },
        {
          "output_type": "display_data",
          "data": {
            "text/html": [
              ""
            ],
            "text/plain": [
              "<IPython.core.display.HTML object>"
            ]
          },
          "metadata": {
            "tags": []
          }
        },
        {
          "output_type": "stream",
          "text": [
            "We must stop by cutting off our parks , and for our NEXT HOUR , to send a strong message and a strong message to our movement . \n",
            "\n",
            " Please contribute $ 7.4 billion for the Democratic National\n",
            "\n",
            "We must stop interference in our elections by completing this election . At the next election , our country will have equal opportunity and justice and justice . But as our Supreme Court is approaching our challenge , we\n",
            "\n",
            "We must stop the spread of foreign interference by the United States . But this is why President Trump is calling on YOU to request a Democratic Convention vote to elect Democrats . \n",
            "\n",
            "\n"
          ],
          "name": "stdout"
        }
      ]
    },
    {
      "cell_type": "markdown",
      "metadata": {
        "id": "hj3aD0UebVwr"
      },
      "source": [
        "Remember, these are not real ... they were _generated_ by the model when it tried to guess each of the next words in the sentence! Generating text like this is not why we made the language model (though you can see where text-generation AI starts from!)\n",
        "\n",
        "Also note that the model is often crafting the response _in the form of a tweet!_\n",
        "\n",
        "We now save the model's encoder, which is the mathematical representation of what the language model \"understands\" about English patterns infused by our political_ads."
      ]
    },
    {
      "cell_type": "code",
      "metadata": {
        "collapsed": true,
        "id": "thkQAeQ2bVwr"
      },
      "source": [
        "learn.save_encoder('fine_tuned_enc')  "
      ],
      "execution_count": null,
      "outputs": []
    },
    {
      "cell_type": "markdown",
      "metadata": {
        "id": "zt6pDPEDbVww"
      },
      "source": [
        "## Building the classifier model\n",
        "\n",
        "This is the model that will use our language model **and** the hand-coded political ads to guess if new ads are probably from Democrats, Republicans or sosething else.\n",
        "\n",
        "We'll create a new data loader that _does_ keeps track of the labels there (\"liberal\", \"conservative\", or \"other\"). We also pass in the `vocab` -- which is the list of the most useful words from the language model."
      ]
    },
    {
      "cell_type": "code",
      "metadata": {
        "collapsed": true,
        "id": "ntIAhZbbbVw1",
        "colab": {
          "base_uri": "https://localhost:8080/",
          "height": 17
        },
        "outputId": "9f9f4973-54d7-4172-a441-495b5b29a929"
      },
      "source": [
        "data_for_classification = TextDataLoaders.from_csv(path=path, csv_fname='data/partisanship_model_training_data_3000.csv', vocab=data_lm.vocab, text_col='ad_creative_body', label_col='partisanship')"
      ],
      "execution_count": null,
      "outputs": [
        {
          "output_type": "display_data",
          "data": {
            "text/html": [
              ""
            ],
            "text/plain": [
              "<IPython.core.display.HTML object>"
            ]
          },
          "metadata": {
            "tags": []
          }
        }
      ]
    },
    {
      "cell_type": "markdown",
      "metadata": {
        "id": "WCwf-DyEbVxA"
      },
      "source": [
        "We can then create a model to classify political_ads. You can see that in the next two lines we include the processed, hand-coded political_ads (`data_for_classification`), the original Wikitext model (`AWD_LSTM`), and the knowledge we saved after infusing the language model with political_ads (`fine_tuned_enc`)."
      ]
    },
    {
      "cell_type": "code",
      "metadata": {
        "collapsed": true,
        "id": "xlJKU0g3bVxA"
      },
      "source": [
        "learn = text_classifier_learner(data_for_classification, AWD_LSTM, drop_mult=0.5, metrics=[accuracy])\n",
        "learn.load_encoder('fine_tuned_enc');"
      ],
      "execution_count": null,
      "outputs": []
    },
    {
      "cell_type": "markdown",
      "metadata": {
        "id": "Az5OuN6_hJaF"
      },
      "source": [
        "With neural networks, there are lots of tweaks you can adjust — known as \"hyperparameters\" — such as learning rate and momentum. The fast.ai defaults are pretty great, and the tools it has for finding the learning rate are super useful. I'm going to skip those details here for now. There's more to learn at [qz.ai](https://qz.ai) or at the [this great fast.ai course](https://course.fast.ai/)."
      ]
    },
    {
      "cell_type": "code",
      "metadata": {
        "collapsed": true,
        "id": "S5g2xmtlbVxJ",
        "colab": {
          "base_uri": "https://localhost:8080/",
          "height": 299
        },
        "outputId": "9cb7069a-b0ec-4533-d6ad-cb255a36b74d"
      },
      "source": [
        "learn.fit_one_cycle(2, 1e-2)\n",
        "\n",
        "learn.freeze_to(-2)\n",
        "learn.fit_one_cycle(2, slice(1e-2/(2.6**4),1e-2))\n",
        "\n",
        "learn.freeze_to(-3)\n",
        "learn.fit_one_cycle(2, slice(5e-3/(2.6**4),5e-3))"
      ],
      "execution_count": null,
      "outputs": [
        {
          "output_type": "display_data",
          "data": {
            "text/html": [
              "<table border=\"1\" class=\"dataframe\">\n",
              "  <thead>\n",
              "    <tr style=\"text-align: left;\">\n",
              "      <th>epoch</th>\n",
              "      <th>train_loss</th>\n",
              "      <th>valid_loss</th>\n",
              "      <th>accuracy</th>\n",
              "      <th>time</th>\n",
              "    </tr>\n",
              "  </thead>\n",
              "  <tbody>\n",
              "    <tr>\n",
              "      <td>0</td>\n",
              "      <td>0.755817</td>\n",
              "      <td>0.383203</td>\n",
              "      <td>0.901667</td>\n",
              "      <td>00:04</td>\n",
              "    </tr>\n",
              "    <tr>\n",
              "      <td>1</td>\n",
              "      <td>0.627984</td>\n",
              "      <td>0.334283</td>\n",
              "      <td>0.903333</td>\n",
              "      <td>00:04</td>\n",
              "    </tr>\n",
              "  </tbody>\n",
              "</table>"
            ],
            "text/plain": [
              "<IPython.core.display.HTML object>"
            ]
          },
          "metadata": {
            "tags": []
          }
        },
        {
          "output_type": "display_data",
          "data": {
            "text/html": [
              "<table border=\"1\" class=\"dataframe\">\n",
              "  <thead>\n",
              "    <tr style=\"text-align: left;\">\n",
              "      <th>epoch</th>\n",
              "      <th>train_loss</th>\n",
              "      <th>valid_loss</th>\n",
              "      <th>accuracy</th>\n",
              "      <th>time</th>\n",
              "    </tr>\n",
              "  </thead>\n",
              "  <tbody>\n",
              "    <tr>\n",
              "      <td>0</td>\n",
              "      <td>0.636120</td>\n",
              "      <td>0.289766</td>\n",
              "      <td>0.861667</td>\n",
              "      <td>00:04</td>\n",
              "    </tr>\n",
              "    <tr>\n",
              "      <td>1</td>\n",
              "      <td>0.514489</td>\n",
              "      <td>0.256246</td>\n",
              "      <td>0.923333</td>\n",
              "      <td>00:04</td>\n",
              "    </tr>\n",
              "  </tbody>\n",
              "</table>"
            ],
            "text/plain": [
              "<IPython.core.display.HTML object>"
            ]
          },
          "metadata": {
            "tags": []
          }
        },
        {
          "output_type": "display_data",
          "data": {
            "text/html": [
              "<table border=\"1\" class=\"dataframe\">\n",
              "  <thead>\n",
              "    <tr style=\"text-align: left;\">\n",
              "      <th>epoch</th>\n",
              "      <th>train_loss</th>\n",
              "      <th>valid_loss</th>\n",
              "      <th>accuracy</th>\n",
              "      <th>time</th>\n",
              "    </tr>\n",
              "  </thead>\n",
              "  <tbody>\n",
              "    <tr>\n",
              "      <td>0</td>\n",
              "      <td>0.407692</td>\n",
              "      <td>0.242888</td>\n",
              "      <td>0.918333</td>\n",
              "      <td>00:04</td>\n",
              "    </tr>\n",
              "    <tr>\n",
              "      <td>1</td>\n",
              "      <td>0.322286</td>\n",
              "      <td>0.132501</td>\n",
              "      <td>0.963333</td>\n",
              "      <td>00:04</td>\n",
              "    </tr>\n",
              "  </tbody>\n",
              "</table>"
            ],
            "text/plain": [
              "<IPython.core.display.HTML object>"
            ]
          },
          "metadata": {
            "tags": []
          }
        }
      ]
    },
    {
      "cell_type": "markdown",
      "metadata": {
        "id": "J-TSQ7iDTdIG"
      },
      "source": [
        "Let's give it an example ...."
      ]
    },
    {
      "cell_type": "code",
      "metadata": {
        "collapsed": true,
        "id": "mBAXEa2MbVxa",
        "colab": {
          "base_uri": "https://localhost:8080/",
          "height": 34
        },
        "outputId": "6549e5ca-160c-4714-bf43-51e3490611b4"
      },
      "source": [
        "example = \"We must elect Joe Biden as President this November 6\"\n",
        "learn.predict(example)"
      ],
      "execution_count": null,
      "outputs": [
        {
          "output_type": "display_data",
          "data": {
            "text/html": [
              ""
            ],
            "text/plain": [
              "<IPython.core.display.HTML object>"
            ]
          },
          "metadata": {
            "tags": []
          }
        },
        {
          "output_type": "execute_result",
          "data": {
            "text/plain": [
              "('conservative', tensor(0), tensor([0.8500, 0.1439, 0.0061]))"
            ]
          },
          "metadata": {
            "tags": []
          },
          "execution_count": 44
        }
      ]
    },
    {
      "cell_type": "markdown",
      "metadata": {
        "id": "8u1ptJu1UmT9"
      },
      "source": [
        "Robot 🤖 says `liberal`. We agree?"
      ]
    },
    {
      "cell_type": "markdown",
      "metadata": {
        "id": "NUayM3YJIYdr"
      },
      "source": [
        "Let's save our work."
      ]
    },
    {
      "cell_type": "markdown",
      "metadata": {
        "id": "XSOgwF1ybVyh"
      },
      "source": [
        "## Saving to Google Drive\n",
        "\n",
        "At present, your Google Colaboratory Notebook disappears when you close it — along with all of your data. If you'd like to save your model to your Google Drive, run the following cell and grant the permissions it requests."
      ]
    },
    {
      "cell_type": "code",
      "metadata": {
        "collapsed": true,
        "id": "Z7hCEKkuIYdr"
      },
      "source": [
        "## THIS CELL WILL ALLOW GOOGLE COLAB USERS SAVE MODELS TO YOUR GOOGLE DRIVE\n",
        "\n",
        "from google.colab import drive\n",
        "drive.mount('/content/gdrive', force_remount=True)\n",
        "\n",
        "\n",
        "root_dir = \"/content/gdrive/My Drive/\"\n"
      ],
      "execution_count": null,
      "outputs": []
    },
    {
      "cell_type": "code",
      "metadata": {
        "id": "YR7Vt5X_LTHo"
      },
      "source": [
        "# # if you don't want to save to Google drive, remove the # on the line below, and run thatinstead\n",
        "# root_dir = './'"
      ],
      "execution_count": null,
      "outputs": []
    },
    {
      "cell_type": "markdown",
      "metadata": {
        "id": "156olYDNIYdr"
      },
      "source": [
        "The next line will save everything we need for predictions to a file to your Google Drive in the `ai-workshops` folder."
      ]
    },
    {
      "cell_type": "code",
      "metadata": {
        "collapsed": true,
        "id": "DfS7-BhpIYdr",
        "scrolled": true
      },
      "source": [
        "save_path = Path(root_dir + 'ai-texts/')\n",
        "save_path.mkdir(parents=True, exist_ok=True)\n",
        "learn.path = save_path\n",
        "learn.export()"
      ],
      "execution_count": null,
      "outputs": []
    },
    {
      "cell_type": "markdown",
      "metadata": {
        "id": "Rcdms4TTIYdr"
      },
      "source": [
        "Later, to load the model into your code, connect to your Google drive using the same block above that starts `from google.colab import drive ...` and then run this:\n",
        "    "
      ]
    },
    {
      "cell_type": "code",
      "metadata": {
        "collapsed": true,
        "id": "HZyZDklsIYdr"
      },
      "source": [
        "# load the model from the 'export.pkl' file on your Google Drive\n",
        "learn = load_learner(save_path/\"export.pkl\")  "
      ],
      "execution_count": null,
      "outputs": []
    },
    {
      "cell_type": "code",
      "metadata": {
        "colab": {
          "base_uri": "https://localhost:8080/",
          "height": 34
        },
        "id": "sC-l5Ef3Lm4O",
        "outputId": "db0b977a-d588-433f-d8ce-57cef0ddad40"
      },
      "source": [
        "example = \"Sleepy Joe will DESTROY our cities\"\n",
        "learn.predict(example)"
      ],
      "execution_count": null,
      "outputs": [
        {
          "output_type": "display_data",
          "data": {
            "text/html": [
              ""
            ],
            "text/plain": [
              "<IPython.core.display.HTML object>"
            ]
          },
          "metadata": {
            "tags": []
          }
        },
        {
          "output_type": "execute_result",
          "data": {
            "text/plain": [
              "('conservative', tensor(0), tensor([0.6906, 0.2703, 0.0391]))"
            ]
          },
          "metadata": {
            "tags": []
          },
          "execution_count": 54
        }
      ]
    },
    {
      "cell_type": "markdown",
      "metadata": {
        "id": "57uA-44kVh_T"
      },
      "source": [
        "*Discussion Questions*\n",
        "\n",
        "1.   What would happen if we fed this model tweets?\n",
        "2.   To create the training dataset, I didn't hand label ads. I hand-picked a few big partisan advertisers, as a shortcut. Can you think of an example where you could maybe do something similar?\n",
        "3.   What are some possible shortcomings that a \"shortcut\" like that might cause? How would you look for those?\n",
        "4.   So far we've learned to categorize images and to categorize the text of political ads. What do we think would happen if we tried to categorize the *images* from political ads by partisanship?\n",
        "\n"
      ]
    },
    {
      "cell_type": "code",
      "metadata": {
        "id": "ZVTEFqfzonn0"
      },
      "source": [
        ""
      ],
      "execution_count": null,
      "outputs": []
    }
  ]
}